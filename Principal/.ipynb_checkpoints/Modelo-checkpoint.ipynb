{
 "cells": [
  {
   "cell_type": "code",
   "execution_count": 11,
   "id": "f5b433d6",
   "metadata": {},
   "outputs": [],
   "source": [
    "import pandas as pd          # Para manejar y analizar datos\n",
    "import numpy as np           # Para operaciones numéricas\n",
    "from sklearn.model_selection import train_test_split  # Para dividir los datos en conjuntos de entrenamiento y prueba\n",
    "from surprise import Dataset, Reader, SVD  # Para crear el modelo de recomendación\n",
    "from surprise.model_selection import cross_validate  # Para validar el modelo\n",
    "from collections import defaultdict  # Para manejar las recomendaciones\n",
    "import os"
   ]
  },
  {
   "cell_type": "code",
   "execution_count": 12,
   "id": "6899c1da",
   "metadata": {},
   "outputs": [],
   "source": [
    "os.environ['KAGGLE_CONFIG_DIR'] = \"kaggle.json\""
   ]
  },
  {
   "cell_type": "code",
   "execution_count": 14,
   "id": "8b2f81ae",
   "metadata": {},
   "outputs": [],
   "source": [
    "libro_ratings = pd.read_csv('data/Books_rating.csv')\n",
    "libro_data = pd.read_csv('data/Books_data.csv')"
   ]
  },
  {
   "cell_type": "code",
   "execution_count": 18,
   "id": "6e04965c",
   "metadata": {},
   "outputs": [
    {
     "name": "stdout",
     "output_type": "stream",
     "text": [
      "           Id                           Title  Price         User_id  \\\n",
      "0  1882931173  Its Only Art If Its Well Hung!    NaN   AVCGYZL8FQQTD   \n",
      "1  0826414346        Dr. Seuss: American Icon    NaN  A30TK6U7DNS82R   \n",
      "2  0826414346        Dr. Seuss: American Icon    NaN  A3UH4UZ4RSVO82   \n",
      "3  0826414346        Dr. Seuss: American Icon    NaN  A2MVUWT453QH61   \n",
      "4  0826414346        Dr. Seuss: American Icon    NaN  A22X4XUPKF66MR   \n",
      "\n",
      "                          profileName review/helpfulness  review/score  \\\n",
      "0               Jim of Oz \"jim-of-oz\"                7/7           4.0   \n",
      "1                       Kevin Killian              10/10           5.0   \n",
      "2                        John Granger              10/11           5.0   \n",
      "3  Roy E. Perry \"amateur philosopher\"                7/7           4.0   \n",
      "4     D. H. Richards \"ninthwavestore\"                3/3           4.0   \n",
      "\n",
      "   review/time                                   review/summary  \\\n",
      "0    940636800           Nice collection of Julie Strain images   \n",
      "1   1095724800                                Really Enjoyed It   \n",
      "2   1078790400  Essential for every personal and Public Library   \n",
      "3   1090713600  Phlip Nel gives silly Seuss a serious treatment   \n",
      "4   1107993600                           Good academic overview   \n",
      "\n",
      "                                         review/text  \n",
      "0  This is only for Julie Strain fans. It's a col...  \n",
      "1  I don't care much for Dr. Seuss but after read...  \n",
      "2  If people become the books they read and if \"t...  \n",
      "3  Theodore Seuss Geisel (1904-1991), aka &quot;D...  \n",
      "4  Philip Nel - Dr. Seuss: American IconThis is b...  \n",
      "                                               Title  \\\n",
      "0                     Its Only Art If Its Well Hung!   \n",
      "1                           Dr. Seuss: American Icon   \n",
      "2              Wonderful Worship in Smaller Churches   \n",
      "3                      Whispers of the Wicked Saints   \n",
      "4  Nation Dance: Religion, Identity and Cultural ...   \n",
      "\n",
      "                                         description              authors  \\\n",
      "0                                                NaN     ['Julie Strain']   \n",
      "1  Philip Nel takes a fascinating look into the k...       ['Philip Nel']   \n",
      "2  This resource includes twelve principles in un...     ['David R. Ray']   \n",
      "3  Julia Thomas finds her life spinning out of co...  ['Veronica Haddon']   \n",
      "4                                                NaN      ['Edward Long']   \n",
      "\n",
      "                                               image  \\\n",
      "0  http://books.google.com/books/content?id=DykPA...   \n",
      "1  http://books.google.com/books/content?id=IjvHQ...   \n",
      "2  http://books.google.com/books/content?id=2tsDA...   \n",
      "3  http://books.google.com/books/content?id=aRSIg...   \n",
      "4                                                NaN   \n",
      "\n",
      "                                         previewLink  publisher publishedDate  \\\n",
      "0  http://books.google.nl/books?id=DykPAAAACAAJ&d...        NaN          1996   \n",
      "1  http://books.google.nl/books?id=IjvHQsCn_pgC&p...  A&C Black    2005-01-01   \n",
      "2  http://books.google.nl/books?id=2tsDAAAACAAJ&d...        NaN          2000   \n",
      "3  http://books.google.nl/books?id=aRSIgJlq6JwC&d...  iUniverse       2005-02   \n",
      "4  http://books.google.nl/books?id=399SPgAACAAJ&d...        NaN    2003-03-01   \n",
      "\n",
      "                                            infoLink  \\\n",
      "0  http://books.google.nl/books?id=DykPAAAACAAJ&d...   \n",
      "1  http://books.google.nl/books?id=IjvHQsCn_pgC&d...   \n",
      "2  http://books.google.nl/books?id=2tsDAAAACAAJ&d...   \n",
      "3  http://books.google.nl/books?id=aRSIgJlq6JwC&d...   \n",
      "4  http://books.google.nl/books?id=399SPgAACAAJ&d...   \n",
      "\n",
      "                      categories  ratingsCount  \n",
      "0    ['Comics & Graphic Novels']           NaN  \n",
      "1  ['Biography & Autobiography']           NaN  \n",
      "2                   ['Religion']           NaN  \n",
      "3                    ['Fiction']           NaN  \n",
      "4                            NaN           NaN  \n"
     ]
    }
   ],
   "source": [
    "print(libro_ratings.head())\n",
    "print(libro_data.head())"
   ]
  },
  {
   "cell_type": "code",
   "execution_count": 42,
   "id": "aad5060a",
   "metadata": {},
   "outputs": [
    {
     "name": "stdout",
     "output_type": "stream",
     "text": [
      "Title              208\n",
      "User_id         561787\n",
      "review/score         0\n",
      "dtype: int64\n"
     ]
    }
   ],
   "source": [
    "popularidad = libro_ratings[['Title', 'User_id', 'review/score']].copy()\n",
    "print(popularidad.isnull().sum())"
   ]
  },
  {
   "cell_type": "code",
   "execution_count": 43,
   "id": "5c205a92",
   "metadata": {},
   "outputs": [
    {
     "name": "stdout",
     "output_type": "stream",
     "text": [
      "<class 'pandas.core.frame.DataFrame'>\n",
      "Int64Index: 2438018 entries, 0 to 2999998\n",
      "Data columns (total 3 columns):\n",
      " #   Column        Dtype  \n",
      "---  ------        -----  \n",
      " 0   Title         object \n",
      " 1   User_id       object \n",
      " 2   review/score  float64\n",
      "dtypes: float64(1), object(2)\n",
      "memory usage: 74.4+ MB\n",
      "None\n"
     ]
    }
   ],
   "source": [
    "popularidad.dropna(inplace=True)\n",
    "print(popularidad.info())"
   ]
  },
  {
   "cell_type": "code",
   "execution_count": 44,
   "id": "1b15781e",
   "metadata": {},
   "outputs": [
    {
     "name": "stdout",
     "output_type": "stream",
     "text": [
      "<class 'pandas.core.frame.DataFrame'>\n",
      "Int64Index: 2438018 entries, 0 to 2999998\n",
      "Data columns (total 3 columns):\n",
      " #   Column        Dtype  \n",
      "---  ------        -----  \n",
      " 0   Title         object \n",
      " 1   User_id       object \n",
      " 2   review/score  float64\n",
      "dtypes: float64(1), object(2)\n",
      "memory usage: 74.4+ MB\n",
      "None\n"
     ]
    }
   ],
   "source": [
    "print(popularidad.info())"
   ]
  },
  {
   "cell_type": "code",
   "execution_count": 46,
   "id": "9c92734b",
   "metadata": {},
   "outputs": [],
   "source": [
    "reader = Reader(rating_scale=(1, 5))\n",
    "data = Dataset.load_from_df(popularidad[['User_id', 'Title', 'review/score']], reader)"
   ]
  },
  {
   "cell_type": "code",
   "execution_count": 47,
   "id": "a42a29c3",
   "metadata": {},
   "outputs": [],
   "source": [
    "trainset = data.build_full_trainset()"
   ]
  },
  {
   "cell_type": "code",
   "execution_count": null,
   "id": "0e530ca4",
   "metadata": {},
   "outputs": [],
   "source": [
    "entrenamineto = SVD()\n",
    "entrenamineto.fit(trainset)"
   ]
  }
 ],
 "metadata": {
  "kernelspec": {
   "display_name": "Python 3 (ipykernel)",
   "language": "python",
   "name": "python3"
  },
  "language_info": {
   "codemirror_mode": {
    "name": "ipython",
    "version": 3
   },
   "file_extension": ".py",
   "mimetype": "text/x-python",
   "name": "python",
   "nbconvert_exporter": "python",
   "pygments_lexer": "ipython3",
   "version": "3.9.12"
  }
 },
 "nbformat": 4,
 "nbformat_minor": 5
}
